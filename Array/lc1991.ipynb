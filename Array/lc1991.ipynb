{
 "cells": [
  {
   "cell_type": "markdown",
   "metadata": {},
   "source": [
    "给你一个整数数组 nums ，请计算数组的 中心下标 。\n",
    "\n",
    "数组 中心下标 是数组的一个下标，其左侧所有元素相加的和等于右侧所有元素相加的和。\n",
    "\n",
    "如果中心下标位于数组最左端，那么左侧数之和视为 0 ，因为在下标的左侧不存在元素。这一点对于中心下标位于数组最右端同样适用。\n",
    "\n",
    "如果数组有多个中心下标，应该返回 最靠近左边 的那一个。如果数组不存在中心下标，返回 -1 \n"
   ]
  },
  {
   "cell_type": "markdown",
   "metadata": {},
   "source": [
    "示例 1：\n",
    "```\n",
    "输入：nums = [1, 7, 3, 6, 5, 6]\n",
    "输出：3\n",
    "解释：\n",
    "中心下标是 3 。\n",
    "左侧数之和 sum = nums[0] + nums[1] + nums[2] = 1 + 7 + 3 = 11 ，\n",
    "右侧数之和 sum = nums[4] + nums[5] = 5 + 6 = 11 ，二者相等。\n",
    "```\n"
   ]
  },
  {
   "cell_type": "markdown",
   "metadata": {},
   "source": [
    "示例 2：\n",
    "```\n",
    "输入：nums = [1, 2, 3]\n",
    "输出：-1\n",
    "解释：\n",
    "数组中不存在满足此条件的中心下标。\n",
    "\n",
    "```"
   ]
  },
  {
   "cell_type": "markdown",
   "metadata": {},
   "source": [
    "示例3：\n",
    "```\n",
    "输入：nums = [2, 1, -1]\n",
    "输出：0\n",
    "解释：\n",
    "中心下标是 0 。\n",
    "左侧数之和 sum = 0 ，（下标 0 左侧不存在元素），\n",
    "右侧数之和 sum = nums[1] + nums[2] = 1 + -1 = 0 。\n",
    "```"
   ]
  },
  {
   "cell_type": "code",
   "execution_count": 5,
   "metadata": {},
   "outputs": [
    {
     "name": "stdout",
     "output_type": "stream",
     "text": [
      "loc =  0\n",
      "loc =  1\n",
      "loc =  2\n",
      "loc =  3\n",
      "3\n",
      "loc =  0\n",
      "loc =  1\n",
      "loc =  2\n"
     ]
    },
    {
     "ename": "IndexError",
     "evalue": "list index out of range",
     "output_type": "error",
     "traceback": [
      "\u001b[1;31m---------------------------------------------------------------------------\u001b[0m",
      "\u001b[1;31mIndexError\u001b[0m                                Traceback (most recent call last)",
      "Cell \u001b[1;32mIn[5], line 24\u001b[0m\n\u001b[0;32m     22\u001b[0m nums3 \u001b[38;5;241m=\u001b[39m [\u001b[38;5;241m2\u001b[39m, \u001b[38;5;241m1\u001b[39m, \u001b[38;5;241m-\u001b[39m\u001b[38;5;241m1\u001b[39m]\n\u001b[0;32m     23\u001b[0m \u001b[38;5;28;01mfor\u001b[39;00m nums \u001b[38;5;129;01min\u001b[39;00m [nums1, nums2, nums3]:\n\u001b[1;32m---> 24\u001b[0m     \u001b[38;5;28mprint\u001b[39m(pivotIndex(nums))\n",
      "Cell \u001b[1;32mIn[5], line 16\u001b[0m, in \u001b[0;36mpivotIndex\u001b[1;34m(nums)\u001b[0m\n\u001b[0;32m     14\u001b[0m     \u001b[38;5;28;01melse\u001b[39;00m:\n\u001b[0;32m     15\u001b[0m         left_sum \u001b[38;5;241m+\u001b[39m\u001b[38;5;241m=\u001b[39m nums[loc]\n\u001b[1;32m---> 16\u001b[0m         right_sum \u001b[38;5;241m-\u001b[39m\u001b[38;5;241m=\u001b[39m nums[loc\u001b[38;5;241m+\u001b[39m\u001b[38;5;241m1\u001b[39m]\n\u001b[0;32m     17\u001b[0m         loc \u001b[38;5;241m+\u001b[39m\u001b[38;5;241m=\u001b[39m \u001b[38;5;241m1\u001b[39m\n\u001b[0;32m     18\u001b[0m \u001b[38;5;28;01mreturn\u001b[39;00m \u001b[38;5;241m-\u001b[39m\u001b[38;5;241m1\u001b[39m\n",
      "\u001b[1;31mIndexError\u001b[0m: list index out of range"
     ]
    }
   ],
   "source": [
    "def pivotIndex(nums) -> int:\n",
    "    if len(nums) < 1:\n",
    "        return -1\n",
    "    loc = 0\n",
    "    left_sum = 0\n",
    "    # initial setting: get the right sum\n",
    "    right_sum = 0\n",
    "    for i in range(1, len(nums)):\n",
    "        right_sum += nums[i]\n",
    "    while loc < len(nums):\n",
    "        print(\"loc = \", loc)\n",
    "        if left_sum == right_sum:\n",
    "            return loc\n",
    "        else:\n",
    "            left_sum += nums[loc]\n",
    "            right_sum -= nums[loc+1]\n",
    "            loc += 1\n",
    "    return -1\n",
    "\n",
    "nums1 = [1, 7, 3, 6, 5, 6]\n",
    "nums2 = [1, 2, 3]\n",
    "nums3 = [2, 1, -1]\n",
    "for nums in [nums1, nums2, nums3]:\n",
    "    print(pivotIndex(nums))"
   ]
  }
 ],
 "metadata": {
  "kernelspec": {
   "display_name": "base",
   "language": "python",
   "name": "python3"
  },
  "language_info": {
   "codemirror_mode": {
    "name": "ipython",
    "version": 3
   },
   "file_extension": ".py",
   "mimetype": "text/x-python",
   "name": "python",
   "nbconvert_exporter": "python",
   "pygments_lexer": "ipython3",
   "version": "3.11.4"
  }
 },
 "nbformat": 4,
 "nbformat_minor": 2
}
